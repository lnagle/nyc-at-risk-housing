{
 "cells": [
  {
   "cell_type": "code",
   "execution_count": null,
   "metadata": {},
   "outputs": [],
   "source": [
    "import geopandas\n",
    "from geodatasets import get_path\n",
    "import matplotlib.pyplot as plt\n"
   ]
  },
  {
   "cell_type": "code",
   "execution_count": null,
   "metadata": {},
   "outputs": [],
   "source": [
    "# Map NYC's boroughs\n",
    "\n",
    "path_to_data = get_path(\"nybb\")\n",
    "nyc_base = geopandas.read_file(path_to_data)\n",
    "\n",
    "nyc_base = nyc_base.set_index(\"BoroName\")"
   ]
  },
  {
   "cell_type": "code",
   "execution_count": null,
   "metadata": {},
   "outputs": [],
   "source": [
    "# Map housing\n",
    "\n",
    "points = geopandas.read_file(\n",
    "  \"rawData/housingData/HousingDB_post2010.shp\",\n",
    "  # Note: Only map new buildings in Brooklyn for now.\n",
    "  where=\"Job_Type='New Building' AND Boro='3'\"\n",
    ")"
   ]
  },
  {
   "cell_type": "code",
   "execution_count": null,
   "metadata": {},
   "outputs": [],
   "source": [
    "# Map flood risk areas in 2050\n",
    "\n",
    "gdf = geopandas.read_file('rawData/floodMapData2050.gdb')\n",
    "# gdf = gdf.head(2) # Keep both categories of flooding, but remove sea level changes"
   ]
  },
  {
   "cell_type": "code",
   "execution_count": null,
   "metadata": {},
   "outputs": [],
   "source": [
    "# Plot\n",
    "\n",
    "base = nyc_base.plot(figsize=(15, 15), color='white', edgecolor='black', linewidth=1)\n",
    "base.set_axis_off()\n",
    "\n",
    "points.plot(ax=base, markersize=0.5)\n",
    "\n",
    "gdf.plot(ax=base, color='red')\n",
    "\n",
    "plt.savefig('images/newHousingMap', dpi=200)\n",
    "\n",
    "# Uncomment this to explore the map dynamically\n",
    "# base = nyc_base.explore(figsize=(15, 15), color='white', edgecolor='black', linewidth=1, tooltip=False)\n",
    "# points.explore(m=base, markersize=0.5, tooltip=False)\n",
    "# gdf.explore(m=base, color='red', tooltip=False)"
   ]
  },
  {
   "cell_type": "code",
   "execution_count": null,
   "metadata": {},
   "outputs": [],
   "source": [
    "# Begin exploring the overlap between flood zones and construction\n",
    "\n",
    "new_buildings_subject_to_flooding = []\n",
    "\n",
    "# Note: Reducing the data size for now for the sake of faster processing\n",
    "for i in range(len(points.geometry.values) // 10):\n",
    "  x = points.geometry.values[i]\n",
    "  contains = gdf.contains(x)\n",
    "  if any(contains.values):\n",
    "    new_buildings_subject_to_flooding.append(x)\n",
    "\n",
    "print(new_buildings_subject_to_flooding)\n",
    "\n",
    "'''Working Notes\n",
    "  Almost all of the flood zones on the map are within streets and do not overlap with the entirety of buildings\n",
    "  The buildings as they are imported currently are simply points.\n",
    "  It is likely necessary to expand these points into full building footprints in order to more accurately assess\n",
    "    how those buildings are impacted by flooding. This is the next step.\n",
    "'''"
   ]
  }
 ],
 "metadata": {
  "kernelspec": {
   "display_name": "base",
   "language": "python",
   "name": "python3"
  },
  "language_info": {
   "codemirror_mode": {
    "name": "ipython",
    "version": 3
   },
   "file_extension": ".py",
   "mimetype": "text/x-python",
   "name": "python",
   "nbconvert_exporter": "python",
   "pygments_lexer": "ipython3",
   "version": "3.11.6"
  }
 },
 "nbformat": 4,
 "nbformat_minor": 2
}
