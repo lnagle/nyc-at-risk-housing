{
 "cells": [
  {
   "cell_type": "code",
   "execution_count": null,
   "metadata": {},
   "outputs": [],
   "source": [
    "import geopandas\n",
    "from geodatasets import get_path\n",
    "import matplotlib.pyplot as plt\n",
    "\n",
    "# ------------------------\n",
    "# Part 1: Map the boroughs\n",
    "\n",
    "path_to_data = get_path(\"nybb\")\n",
    "gdf = geopandas.read_file(path_to_data)\n",
    "\n",
    "gdf = gdf.set_index(\"BoroName\")\n",
    "\n",
    "base = gdf.plot(figsize=(15, 15), color='white', edgecolor='black', linewidth=1)\n",
    "base.set_axis_off()\n",
    "\n",
    "# ------------------------\n",
    "# Part 2: Map housing\n",
    "\n",
    "gdf2 = geopandas.read_file(\n",
    "  \"rawData/housingData/HousingDB_post2010.shp\",\n",
    "  where=\"Job_Type='New Building'\"\n",
    ")\n",
    "\n",
    "gdf2.plot(ax=base, markersize=0.5)\n",
    "\n",
    "# ------------------------\n",
    "# Part 3: Map flood risk areas in 2050\n",
    "\n",
    "gdf3 = geopandas.read_file('rawData/floodMapData2050.gdb')\n",
    "gdf3.plot(ax=base, color='red')\n",
    "\n",
    "plt.savefig('images/newHousingMap', dpi=200)\n",
    "\n",
    "# ------------------------\n",
    "# Part 4: Break flood risks out by type and map separately"
   ]
  }
 ],
 "metadata": {
  "kernelspec": {
   "display_name": "base",
   "language": "python",
   "name": "python3"
  },
  "language_info": {
   "codemirror_mode": {
    "name": "ipython",
    "version": 3
   },
   "file_extension": ".py",
   "mimetype": "text/x-python",
   "name": "python",
   "nbconvert_exporter": "python",
   "pygments_lexer": "ipython3",
   "version": "3.11.6"
  }
 },
 "nbformat": 4,
 "nbformat_minor": 2
}
